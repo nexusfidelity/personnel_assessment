{
 "cells": [
  {
   "cell_type": "code",
   "execution_count": 1,
   "id": "33837a6d",
   "metadata": {},
   "outputs": [],
   "source": [
    "import pandas as pd"
   ]
  },
  {
   "cell_type": "code",
   "execution_count": 2,
   "id": "82dce2e5",
   "metadata": {},
   "outputs": [
    {
     "data": {
      "text/html": [
       "<div>\n",
       "<style scoped>\n",
       "    .dataframe tbody tr th:only-of-type {\n",
       "        vertical-align: middle;\n",
       "    }\n",
       "\n",
       "    .dataframe tbody tr th {\n",
       "        vertical-align: top;\n",
       "    }\n",
       "\n",
       "    .dataframe thead th {\n",
       "        text-align: right;\n",
       "    }\n",
       "</style>\n",
       "<table border=\"1\" class=\"dataframe\">\n",
       "  <thead>\n",
       "    <tr style=\"text-align: right;\">\n",
       "      <th></th>\n",
       "      <th>math</th>\n",
       "      <th>english</th>\n",
       "      <th>science</th>\n",
       "      <th>logic</th>\n",
       "      <th>mbti</th>\n",
       "      <th>degree</th>\n",
       "      <th>primary</th>\n",
       "      <th>secondary</th>\n",
       "      <th>preferred</th>\n",
       "    </tr>\n",
       "  </thead>\n",
       "  <tbody>\n",
       "    <tr>\n",
       "      <th>0</th>\n",
       "      <td>80</td>\n",
       "      <td>0</td>\n",
       "      <td>0</td>\n",
       "      <td>0</td>\n",
       "      <td>INTJ</td>\n",
       "      <td>NaN</td>\n",
       "      <td>accountant</td>\n",
       "      <td>NaN</td>\n",
       "      <td>NaN</td>\n",
       "    </tr>\n",
       "    <tr>\n",
       "      <th>1</th>\n",
       "      <td>80</td>\n",
       "      <td>0</td>\n",
       "      <td>0</td>\n",
       "      <td>0</td>\n",
       "      <td>INTP</td>\n",
       "      <td>NaN</td>\n",
       "      <td>computer programmer</td>\n",
       "      <td>NaN</td>\n",
       "      <td>NaN</td>\n",
       "    </tr>\n",
       "    <tr>\n",
       "      <th>2</th>\n",
       "      <td>80</td>\n",
       "      <td>0</td>\n",
       "      <td>0</td>\n",
       "      <td>0</td>\n",
       "      <td>ENTJ</td>\n",
       "      <td>NaN</td>\n",
       "      <td>entreprenuer</td>\n",
       "      <td>NaN</td>\n",
       "      <td>NaN</td>\n",
       "    </tr>\n",
       "    <tr>\n",
       "      <th>3</th>\n",
       "      <td>80</td>\n",
       "      <td>0</td>\n",
       "      <td>0</td>\n",
       "      <td>0</td>\n",
       "      <td>ENTP</td>\n",
       "      <td>NaN</td>\n",
       "      <td>professor</td>\n",
       "      <td>NaN</td>\n",
       "      <td>NaN</td>\n",
       "    </tr>\n",
       "    <tr>\n",
       "      <th>4</th>\n",
       "      <td>80</td>\n",
       "      <td>0</td>\n",
       "      <td>0</td>\n",
       "      <td>0</td>\n",
       "      <td>INFJ</td>\n",
       "      <td>NaN</td>\n",
       "      <td>librarian</td>\n",
       "      <td>NaN</td>\n",
       "      <td>NaN</td>\n",
       "    </tr>\n",
       "    <tr>\n",
       "      <th>...</th>\n",
       "      <td>...</td>\n",
       "      <td>...</td>\n",
       "      <td>...</td>\n",
       "      <td>...</td>\n",
       "      <td>...</td>\n",
       "      <td>...</td>\n",
       "      <td>...</td>\n",
       "      <td>...</td>\n",
       "      <td>...</td>\n",
       "    </tr>\n",
       "    <tr>\n",
       "      <th>59</th>\n",
       "      <td>0</td>\n",
       "      <td>0</td>\n",
       "      <td>0</td>\n",
       "      <td>80</td>\n",
       "      <td>ESFJ</td>\n",
       "      <td>NaN</td>\n",
       "      <td>training facilitator</td>\n",
       "      <td>NaN</td>\n",
       "      <td>NaN</td>\n",
       "    </tr>\n",
       "    <tr>\n",
       "      <th>60</th>\n",
       "      <td>0</td>\n",
       "      <td>0</td>\n",
       "      <td>0</td>\n",
       "      <td>80</td>\n",
       "      <td>ISTP</td>\n",
       "      <td>NaN</td>\n",
       "      <td>surveyor</td>\n",
       "      <td>NaN</td>\n",
       "      <td>NaN</td>\n",
       "    </tr>\n",
       "    <tr>\n",
       "      <th>61</th>\n",
       "      <td>0</td>\n",
       "      <td>0</td>\n",
       "      <td>0</td>\n",
       "      <td>80</td>\n",
       "      <td>ISFP</td>\n",
       "      <td>NaN</td>\n",
       "      <td>officer</td>\n",
       "      <td>NaN</td>\n",
       "      <td>NaN</td>\n",
       "    </tr>\n",
       "    <tr>\n",
       "      <th>62</th>\n",
       "      <td>0</td>\n",
       "      <td>0</td>\n",
       "      <td>0</td>\n",
       "      <td>80</td>\n",
       "      <td>ESTP</td>\n",
       "      <td>NaN</td>\n",
       "      <td>sales manager</td>\n",
       "      <td>NaN</td>\n",
       "      <td>NaN</td>\n",
       "    </tr>\n",
       "    <tr>\n",
       "      <th>63</th>\n",
       "      <td>0</td>\n",
       "      <td>0</td>\n",
       "      <td>0</td>\n",
       "      <td>80</td>\n",
       "      <td>ESFP</td>\n",
       "      <td>NaN</td>\n",
       "      <td>planner</td>\n",
       "      <td>NaN</td>\n",
       "      <td>NaN</td>\n",
       "    </tr>\n",
       "  </tbody>\n",
       "</table>\n",
       "<p>64 rows × 9 columns</p>\n",
       "</div>"
      ],
      "text/plain": [
       "    math  english  science  logic  mbti  degree               primary  \\\n",
       "0     80        0        0      0  INTJ     NaN            accountant   \n",
       "1     80        0        0      0  INTP     NaN   computer programmer   \n",
       "2     80        0        0      0  ENTJ     NaN          entreprenuer   \n",
       "3     80        0        0      0  ENTP     NaN             professor   \n",
       "4     80        0        0      0  INFJ     NaN             librarian   \n",
       "..   ...      ...      ...    ...   ...     ...                   ...   \n",
       "59     0        0        0     80  ESFJ     NaN  training facilitator   \n",
       "60     0        0        0     80  ISTP     NaN              surveyor   \n",
       "61     0        0        0     80  ISFP     NaN               officer   \n",
       "62     0        0        0     80  ESTP     NaN         sales manager   \n",
       "63     0        0        0     80  ESFP     NaN               planner   \n",
       "\n",
       "    secondary  preferred  \n",
       "0         NaN        NaN  \n",
       "1         NaN        NaN  \n",
       "2         NaN        NaN  \n",
       "3         NaN        NaN  \n",
       "4         NaN        NaN  \n",
       "..        ...        ...  \n",
       "59        NaN        NaN  \n",
       "60        NaN        NaN  \n",
       "61        NaN        NaN  \n",
       "62        NaN        NaN  \n",
       "63        NaN        NaN  \n",
       "\n",
       "[64 rows x 9 columns]"
      ]
     },
     "execution_count": 2,
     "metadata": {},
     "output_type": "execute_result"
    }
   ],
   "source": [
    "data=pd.read_csv(\"pnp_data.csv\")\n",
    "data"
   ]
  },
  {
   "cell_type": "code",
   "execution_count": 3,
   "id": "1cbf46e0",
   "metadata": {},
   "outputs": [
    {
     "data": {
      "text/plain": [
       "array([[80,  0,  0,  0],\n",
       "       [80,  0,  0,  0],\n",
       "       [80,  0,  0,  0],\n",
       "       [80,  0,  0,  0],\n",
       "       [80,  0,  0,  0],\n",
       "       [80,  0,  0,  0],\n",
       "       [80,  0,  0,  0],\n",
       "       [80,  0,  0,  0],\n",
       "       [80,  0,  0,  0]], dtype=int64)"
      ]
     },
     "execution_count": 3,
     "metadata": {},
     "output_type": "execute_result"
    }
   ],
   "source": [
    "X = data[['math','english','science','logic']].values\n",
    "X[1:10]"
   ]
  },
  {
   "cell_type": "code",
   "execution_count": 4,
   "id": "44e3030f",
   "metadata": {},
   "outputs": [
    {
     "data": {
      "text/plain": [
       "array(['accountant', 'computer programmer', 'entreprenuer', 'professor',\n",
       "       'librarian'], dtype=object)"
      ]
     },
     "execution_count": 4,
     "metadata": {},
     "output_type": "execute_result"
    }
   ],
   "source": [
    "y = data['primary'].values\n",
    "y[0:5]"
   ]
  },
  {
   "cell_type": "code",
   "execution_count": 5,
   "id": "e5674420",
   "metadata": {},
   "outputs": [],
   "source": [
    "from sklearn.model_selection import train_test_split\n",
    "X_train, X_test, y_train, y_test =train_test_split(X,y,test_size=0.2,random_state=0)"
   ]
  },
  {
   "cell_type": "code",
   "execution_count": 6,
   "id": "fa76c8e6",
   "metadata": {},
   "outputs": [],
   "source": [
    "#feature scaling\n",
    "from sklearn.preprocessing import StandardScaler\n",
    "sc = StandardScaler()\n",
    "X_train = sc.fit_transform(X_train)\n",
    "X_test = sc.transform(X_test)"
   ]
  },
  {
   "cell_type": "code",
   "execution_count": 7,
   "id": "13636d66",
   "metadata": {},
   "outputs": [],
   "source": [
    "from sklearn.neighbors import KNeighborsClassifier\n",
    "classifier = KNeighborsClassifier(n_neighbors=5, metric='minkowski',p=2)"
   ]
  },
  {
   "cell_type": "code",
   "execution_count": 8,
   "id": "532d89bf",
   "metadata": {},
   "outputs": [],
   "source": [
    "classifier.fit(X_train, y_train)\n",
    "y_pred = classifier.predict(X_test)"
   ]
  },
  {
   "cell_type": "code",
   "execution_count": 9,
   "id": "2e1d7b4e",
   "metadata": {},
   "outputs": [
    {
     "name": "stdout",
     "output_type": "stream",
     "text": [
      "Test accuracy is 0.0\n"
     ]
    }
   ],
   "source": [
    "from sklearn.metrics import *\n",
    "print('Test accuracy is {}'.format(accuracy_score(y_test, y_pred)))"
   ]
  },
  {
   "cell_type": "code",
   "execution_count": 10,
   "id": "a385d31d",
   "metadata": {},
   "outputs": [],
   "source": [
    "import pickle\n",
    "Pkl_Filename = \"Saved_Model.pkl\"\n",
    "\n",
    "with open(Pkl_Filename, 'wb') as file:  \n",
    "    pickle.dump(classifier, file)"
   ]
  },
  {
   "cell_type": "code",
   "execution_count": 11,
   "id": "01f6d33e",
   "metadata": {},
   "outputs": [],
   "source": [
    "# Load the Model back from file\n",
    "with open(Pkl_Filename, 'rb') as file:  \n",
    "    Pickled_Model = pickle.load(file)"
   ]
  },
  {
   "cell_type": "markdown",
   "id": "71d7be66",
   "metadata": {},
   "source": [
    "### new data prediction"
   ]
  },
  {
   "cell_type": "code",
   "execution_count": 12,
   "id": "443c26f0",
   "metadata": {},
   "outputs": [],
   "source": [
    "newX = [[0,12,50,20]]\n",
    "#newX_test = sc.transform(newX)"
   ]
  },
  {
   "cell_type": "code",
   "execution_count": 13,
   "id": "eda9d384",
   "metadata": {},
   "outputs": [
    {
     "data": {
      "text/plain": [
       "array(['chef'], dtype=object)"
      ]
     },
     "execution_count": 13,
     "metadata": {},
     "output_type": "execute_result"
    }
   ],
   "source": [
    "newypred = classifier.predict(newX)\n",
    "newypred"
   ]
  },
  {
   "cell_type": "code",
   "execution_count": 14,
   "id": "afaaf549",
   "metadata": {},
   "outputs": [
    {
     "data": {
      "text/plain": [
       "array(['chef'], dtype=object)"
      ]
     },
     "execution_count": 14,
     "metadata": {},
     "output_type": "execute_result"
    }
   ],
   "source": [
    "Pickled_Model.predict(newX)"
   ]
  },
  {
   "cell_type": "code",
   "execution_count": 15,
   "id": "43c9b065",
   "metadata": {},
   "outputs": [
    {
     "data": {
      "text/plain": [
       "\"['chef']\""
      ]
     },
     "execution_count": 15,
     "metadata": {},
     "output_type": "execute_result"
    }
   ],
   "source": [
    "str(Pickled_Model.predict(newX))"
   ]
  },
  {
   "cell_type": "code",
   "execution_count": 16,
   "id": "eeab1ae3",
   "metadata": {},
   "outputs": [
    {
     "data": {
      "text/plain": [
       "'chef'"
      ]
     },
     "execution_count": 16,
     "metadata": {},
     "output_type": "execute_result"
    }
   ],
   "source": [
    "import re\n",
    "re.sub(r'[^\\w]', '', str(Pickled_Model.predict(newX)))"
   ]
  },
  {
   "cell_type": "code",
   "execution_count": 24,
   "id": "f6a1c34c",
   "metadata": {},
   "outputs": [
    {
     "data": {
      "text/plain": [
       "array([[0. , 0. , 0. , 0. , 0. , 0. , 0.2, 0. , 0. , 0. , 0. , 0. , 0. ,\n",
       "        0. , 0.2, 0. , 0. , 0. , 0. , 0. , 0. , 0. , 0. , 0. , 0. , 0. ,\n",
       "        0. , 0.2, 0. , 0. , 0. , 0.2, 0. , 0. , 0. , 0. , 0. , 0. , 0. ,\n",
       "        0.2, 0. , 0. , 0. , 0. , 0. , 0. , 0. , 0. ]])"
      ]
     },
     "execution_count": 24,
     "metadata": {},
     "output_type": "execute_result"
    }
   ],
   "source": [
    "Pickled_Model.predict_proba(newX)"
   ]
  },
  {
   "cell_type": "code",
   "execution_count": 25,
   "id": "40c7ae82",
   "metadata": {},
   "outputs": [
    {
     "data": {
      "text/plain": [
       "array(['accountant', 'architect', 'artist', 'book keeper',\n",
       "       'brand manager', 'business development officer', 'chef',\n",
       "       'computer programmer', 'counsellor', 'designer', 'detective',\n",
       "       'economist', 'environmental scientist', 'event manager',\n",
       "       'film producer', 'finance officer', 'foreman',\n",
       "       'forensic scientist', 'fundraiser', 'human resources', 'inspector',\n",
       "       'interior designer', 'inventor', 'journalist', 'librarian',\n",
       "       'mental health counselor', 'musician', 'nurse', 'office manager',\n",
       "       'officer', 'paralegal', 'paramedic', 'personnel inspector',\n",
       "       'planner', 'politician', 'professor', 'project manager',\n",
       "       'psychologist', 'relationship manager', 'scientific researcher',\n",
       "       'secretary', 'social scientist', 'supply chain manager',\n",
       "       'surveyor', 'teacher', 'telemarketer', 'training facilitator',\n",
       "       'training manager'], dtype=object)"
      ]
     },
     "execution_count": 25,
     "metadata": {},
     "output_type": "execute_result"
    }
   ],
   "source": [
    "Pickled_Model.classes_"
   ]
  },
  {
   "cell_type": "code",
   "execution_count": null,
   "id": "117356e9",
   "metadata": {},
   "outputs": [],
   "source": []
  }
 ],
 "metadata": {
  "kernelspec": {
   "display_name": "Python 3",
   "language": "python",
   "name": "python3"
  },
  "language_info": {
   "codemirror_mode": {
    "name": "ipython",
    "version": 3
   },
   "file_extension": ".py",
   "mimetype": "text/x-python",
   "name": "python",
   "nbconvert_exporter": "python",
   "pygments_lexer": "ipython3",
   "version": "3.8.10"
  }
 },
 "nbformat": 4,
 "nbformat_minor": 5
}
